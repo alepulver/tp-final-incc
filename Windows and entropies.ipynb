{
 "metadata": {
  "name": "Windows and entropies"
 },
 "nbformat": 3,
 "nbformat_minor": 0,
 "worksheets": [
  {
   "cells": [
    {
     "cell_type": "markdown",
     "metadata": {},
     "source": [
      "# Windows and entropies"
     ]
    },
    {
     "cell_type": "markdown",
     "metadata": {},
     "source": [
      "## Words per book"
     ]
    },
    {
     "cell_type": "code",
     "collapsed": false,
     "input": [
      "import book_classification as bc\n",
      "import shelve\n",
      "import pandas\n",
      "import numpy\n",
      "import matplotlib.pyplot as plt"
     ],
     "language": "python",
     "metadata": {},
     "outputs": [],
     "prompt_number": 1
    },
    {
     "cell_type": "code",
     "collapsed": false,
     "input": [
      "myShelf = shelve.open(\"storage_new.db\")\n",
      "aBookCollection = myShelf['aBookCollection']\n",
      "del myShelf"
     ],
     "language": "python",
     "metadata": {},
     "outputs": [
      {
       "output_type": "stream",
       "stream": "stdout",
       "text": [
        "['aBookCollection']\n",
        "<class 'NoneType'>\n"
       ]
      }
     ],
     "prompt_number": 13
    },
    {
     "cell_type": "code",
     "collapsed": false,
     "input": [
      "aBookCollection.books()"
     ],
     "language": "python",
     "metadata": {},
     "outputs": [
      {
       "ename": "AttributeError",
       "evalue": "'NoneType' object has no attribute 'books'",
       "output_type": "pyerr",
       "traceback": [
        "\u001b[1;31m---------------------------------------------------------------------------\u001b[0m\n\u001b[1;31mAttributeError\u001b[0m                            Traceback (most recent call last)",
        "\u001b[1;32m<ipython-input-11-01d512c05d10>\u001b[0m in \u001b[0;36m<module>\u001b[1;34m()\u001b[0m\n\u001b[1;32m----> 1\u001b[1;33m \u001b[0maBookCollection\u001b[0m\u001b[1;33m.\u001b[0m\u001b[0mbooks\u001b[0m\u001b[1;33m(\u001b[0m\u001b[1;33m)\u001b[0m\u001b[1;33m\u001b[0m\u001b[0m\n\u001b[0m",
        "\u001b[1;31mAttributeError\u001b[0m: 'NoneType' object has no attribute 'books'"
       ]
      }
     ],
     "prompt_number": 11
    },
    {
     "cell_type": "code",
     "collapsed": false,
     "input": [
      "book = aBookFrame.iloc[0, 2]\n",
      "indexer = bc.PossibleFeatureAnalyzer.from_documents(tokenizer, [book.contents]).build_indexer()\n",
      "extractor = bc.WordSeriesExtractor(tokenizer, indexer)\n",
      "series = extractor.extract_from(book.contents)"
     ],
     "language": "python",
     "metadata": {},
     "outputs": []
    },
    {
     "cell_type": "code",
     "collapsed": false,
     "input": [
      "[(k,len(v)) for (k,v) in series.as_dict().items() if len(v) > 600]"
     ],
     "language": "python",
     "metadata": {},
     "outputs": []
    },
    {
     "cell_type": "code",
     "collapsed": false,
     "input": [
      "test = pandas.Series(series.as_dict()['man'])\n",
      "test2 = test.diff()\n",
      "#print(test2.describe())\n",
      "test3 = []\n",
      "bad = 0\n",
      "for x in test2:\n",
      "    if pandas.isnull(x):\n",
      "        bad += 1\n",
      "        continue\n",
      "    test3.append(1)\n",
      "    #print(x)\n",
      "    test3.extend([numpy.nan] * (x-1))\n",
      "test4 = pandas.Series(test3)\n",
      "print(bad)\n",
      "pandas.stats.moments.rolling_count(test4, 500).plot()"
     ],
     "language": "python",
     "metadata": {},
     "outputs": []
    },
    {
     "cell_type": "code",
     "collapsed": false,
     "input": [
      "[numpy.nan] * 3"
     ],
     "language": "python",
     "metadata": {},
     "outputs": []
    }
   ],
   "metadata": {}
  }
 ]
}