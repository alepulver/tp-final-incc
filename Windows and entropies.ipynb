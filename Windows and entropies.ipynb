{
 "metadata": {
  "name": "Windows and entropies"
 },
 "nbformat": 3,
 "nbformat_minor": 0,
 "worksheets": [
  {
   "cells": [
    {
     "cell_type": "markdown",
     "metadata": {},
     "source": [
      "# Windows and entropies"
     ]
    },
    {
     "cell_type": "code",
     "collapsed": false,
     "input": [
      "import book_classification as bc\n",
      "import shelve\n",
      "import pandas\n",
      "import numpy\n",
      "import matplotlib.pyplot as plt"
     ],
     "language": "python",
     "metadata": {},
     "outputs": [],
     "prompt_number": 1
    },
    {
     "cell_type": "code",
     "collapsed": false,
     "input": [
      "myShelf = shelve.open(\"storage_new.db\")\n",
      "aBookCollection = myShelf['aBookCollection']\n",
      "del myShelf"
     ],
     "language": "python",
     "metadata": {},
     "outputs": [],
     "prompt_number": 15
    },
    {
     "cell_type": "code",
     "collapsed": false,
     "input": [
      "aBookFrame = pandas.DataFrame([[b.title, b.author, b] for b in aBookCollection], columns=[\"Title\", \"Author\", \"Book\"])\n",
      "tokenizer = bc.BasicTokenizer()"
     ],
     "language": "python",
     "metadata": {},
     "outputs": [],
     "prompt_number": 16
    },
    {
     "cell_type": "code",
     "collapsed": false,
     "input": [
      "print(aBookFrame.head(10))"
     ],
     "language": "python",
     "metadata": {},
     "outputs": [
      {
       "output_type": "stream",
       "stream": "stdout",
       "text": [
        "                                               Title               Author  \\\n",
        "0                                       Regeneration     H. Rider Haggard   \n",
        "1                                   Yorkshire Lyrics         John Hartley   \n",
        "2  The Christmas Banquet (From \"Mosses From An Ol...  Nathaniel Hawthorne   \n",
        "3            Uncle Sam's Boys with Pershing's Troops    H. Irving Hancock   \n",
        "4                        Stories in Light and Shadow           Bret Harte   \n",
        "5              The Romantic Adventures of a Milkmaid         Thomas Hardy   \n",
        "6                             The Lady Of Blossholme     H. Rider Haggard   \n",
        "7  Buds and Bird Voices (From \"Mosses From An Old...  Nathaniel Hawthorne   \n",
        "8                                  The Gorgon's Head  Nathaniel Hawthorne   \n",
        "9            The Memoirs of Count Grammont, Volume 1     Anthony Hamilton   \n",
        "\n",
        "                                                Book  \n",
        "0  <book_classification.book.Book object at 0x7f9...  \n",
        "1  <book_classification.book.Book object at 0x7f9...  \n",
        "2  <book_classification.book.Book object at 0x7f9...  \n",
        "3  <book_classification.book.Book object at 0x7f9...  \n",
        "4  <book_classification.book.Book object at 0x7f9...  \n",
        "5  <book_classification.book.Book object at 0x7f9...  \n",
        "6  <book_classification.book.Book object at 0x7f9...  \n",
        "7  <book_classification.book.Book object at 0x7f9...  \n",
        "8  <book_classification.book.Book object at 0x7f9...  \n",
        "9  <book_classification.book.Book object at 0x7f9...  \n"
       ]
      }
     ],
     "prompt_number": 18
    },
    {
     "cell_type": "code",
     "collapsed": false,
     "input": [],
     "language": "python",
     "metadata": {},
     "outputs": []
    }
   ],
   "metadata": {}
  }
 ]
}