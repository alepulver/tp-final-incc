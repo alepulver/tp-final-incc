{
 "metadata": {
  "name": "Windows and entropies"
 },
 "nbformat": 3,
 "nbformat_minor": 0,
 "worksheets": [
  {
   "cells": [
    {
     "cell_type": "markdown",
     "metadata": {},
     "source": [
      "# Windows and entropies"
     ]
    },
    {
     "cell_type": "code",
     "collapsed": false,
     "input": [
      "import book_classification as bc\n",
      "import shelve\n",
      "import pandas\n",
      "import numpy\n",
      "import matplotlib.pyplot as plt"
     ],
     "language": "python",
     "metadata": {},
     "outputs": [],
     "prompt_number": 1
    },
    {
     "cell_type": "code",
     "collapsed": false,
     "input": [
      "myShelf = shelve.open(\"storage_new.db\")\n",
      "aBookCollection = myShelf['aBookCollection']\n",
      "del myShelf"
     ],
     "language": "python",
     "metadata": {},
     "outputs": [],
     "prompt_number": 2
    },
    {
     "cell_type": "code",
     "collapsed": false,
     "input": [
      "aBookFrame = pandas.DataFrame([[b.title, b.author, b] for b in aBookCollection], columns=[\"Title\", \"Author\", \"Book\"])\n",
      "tokenizer = bc.BasicTokenizer()"
     ],
     "language": "python",
     "metadata": {},
     "outputs": [],
     "prompt_number": 3
    },
    {
     "cell_type": "code",
     "collapsed": false,
     "input": [
      "book = aBookFrame.iloc[0, 2]\n",
      "indexer = bc.PossibleFeatureAnalyzer.from_documents(tokenizer, [book.contents]).build_indexer()\n",
      "extractor = bc.WordSeriesExtractor(tokenizer, indexer)\n",
      "series = extractor.extract_from(book.contents)"
     ],
     "language": "python",
     "metadata": {},
     "outputs": [],
     "prompt_number": 4
    },
    {
     "cell_type": "code",
     "collapsed": false,
     "input": [
      "[(k,len(v)) for (k,v) in series.as_dict().items() if len(v) > 600]"
     ],
     "language": "python",
     "metadata": {},
     "outputs": [
      {
       "output_type": "pyout",
       "prompt_number": 40,
       "text": [
        "[('there', 774),\n",
        " ('when', 732),\n",
        " ('not', 1136),\n",
        " ('which', 1104),\n",
        " ('his', 3123),\n",
        " ('their', 637),\n",
        " ('have', 1065),\n",
        " ('was', 2620),\n",
        " ('she', 1397),\n",
        " ('her', 1880),\n",
        " ('they', 1221),\n",
        " ('had', 1795),\n",
        " ('what', 647),\n",
        " ('little', 647),\n",
        " ('man', 682),\n",
        " ('but', 1289),\n",
        " ('who', 693),\n",
        " ('been', 631),\n",
        " ('you', 2419),\n",
        " ('with', 2242),\n",
        " ('would', 666),\n",
        " ('said', 1420),\n",
        " ('him', 1220),\n",
        " ('this', 1125),\n",
        " ('all', 891),\n",
        " ('old', 817),\n",
        " ('for', 1597),\n",
        " ('upon', 798),\n",
        " ('that', 3009),\n",
        " ('the', 11873),\n",
        " ('them', 608),\n",
        " ('kit', 627),\n",
        " ('from', 917),\n",
        " ('one', 668),\n",
        " ('very', 743),\n",
        " ('and', 8973),\n",
        " ('were', 842)]"
       ]
      }
     ],
     "prompt_number": 40
    },
    {
     "cell_type": "code",
     "collapsed": false,
     "input": [
      "test = pandas.Series(series.as_dict()['man'])\n",
      "test2 = test.diff()\n",
      "#print(test2.describe())\n",
      "test3 = []\n",
      "bad = 0\n",
      "for x in test2:\n",
      "    if pandas.isnull(x):\n",
      "        bad += 1\n",
      "        continue\n",
      "    test3.append(1)\n",
      "    #print(x)\n",
      "    test3.extend([numpy.nan] * (x-1))\n",
      "test4 = pandas.Series(test3)\n",
      "print(bad)\n",
      "pandas.stats.moments.rolling_count(test4, 500).plot()"
     ],
     "language": "python",
     "metadata": {},
     "outputs": [
      {
       "output_type": "stream",
       "stream": "stdout",
       "text": [
        "1\n"
       ]
      },
      {
       "output_type": "pyout",
       "prompt_number": 41,
       "text": [
        "<matplotlib.axes.AxesSubplot at 0x7ff90fa6dc10>"
       ]
      },
      {
       "output_type": "display_data",
       "png": "[encoded data removed]"
      }
     ],
     "prompt_number": 41
    },
    {
     "cell_type": "code",
     "collapsed": false,
     "input": [
      "[numpy.nan] * 3"
     ],
     "language": "python",
     "metadata": {},
     "outputs": [
      {
       "output_type": "pyout",
       "prompt_number": 24,
       "text": [
        "[nan, nan, nan]"
       ]
      }
     ],
     "prompt_number": 24
    }
   ],
   "metadata": {}
  }
 ]
}