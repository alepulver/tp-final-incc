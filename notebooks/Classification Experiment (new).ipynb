{
 "metadata": {
  "name": "Classification Experiment (new)"
 },
 "nbformat": 3,
 "nbformat_minor": 0,
 "worksheets": [
  {
   "cells": [
    {
     "cell_type": "markdown",
     "metadata": {},
     "source": [
      "# Classification Experiment"
     ]
    },
    {
     "cell_type": "markdown",
     "metadata": {},
     "source": [
      "K autores con N libros cada uno\n",
      "\n",
      "- variar % de entrenamiento con respecto al testing\n",
      "- variar la cantidad de autores dentro del experimento\n",
      "\n",
      "Eso repetir para frecuencias y entrop\u00edas"
     ]
    },
    {
     "cell_type": "code",
     "collapsed": false,
     "input": [
      "import book_classification as bc\n",
      "import pandas\n",
      "import shelve\n",
      "from sklearn import svm"
     ],
     "language": "python",
     "metadata": {},
     "outputs": [],
     "prompt_number": 5
    },
    {
     "cell_type": "code",
     "collapsed": false,
     "input": [
      "myShelf = shelve.open(\"storage_new.db\")\n",
      "aBookCollection = myShelf['aBookCollection']\n",
      "aBookCollection = aBookCollection.selection().remove_duplicates()\n",
      "aDataFrame = aBookCollection.as_dataframe()\n",
      "del myShelf"
     ],
     "language": "python",
     "metadata": {},
     "outputs": [],
     "prompt_number": 6
    },
    {
     "cell_type": "code",
     "collapsed": false,
     "input": [
      "tokenizer = bc.BasicTokenizer()\n",
      "frequency_extractor = bc.FrequenciesExtractor(tokenizer)\n",
      "frequencies = bc.CollectionHierarchialFeatures.from_book_collection(aBookCollection, frequency_extractor)\n",
      "\n",
      "vocabulary = pandas.Series(data=list(frequencies.total().values()), index=list(frequencies.total().keys()))\n",
      "vocabulary.sort()\n",
      "\n",
      "start = round(0.5 * len(vocabulary))\n",
      "end = round(0.98 * len(vocabulary))\n",
      "vocabulary = vocabulary.iloc[start:end]\n",
      "\n",
      "tokenizer = bc.CollapsingFilteringTokenizer(bc.BasicTokenizer(), vocabulary.index)"
     ],
     "language": "python",
     "metadata": {},
     "outputs": [],
     "prompt_number": 7
    },
    {
     "cell_type": "code",
     "collapsed": false,
     "input": [
      "extractor = bc.EntropiesExtractor(tokenizer, bc.FixedGrouper(500))\n",
      "classification_model = bc.ClassificationModel(extractor, svm.SVC())\n",
      "experiment_series = bc.ESOverAuthorsCount(aBookCollection, classification_model)"
     ],
     "language": "python",
     "metadata": {},
     "outputs": [],
     "prompt_number": 8
    },
    {
     "cell_type": "code",
     "collapsed": false,
     "input": [
      "results = experiment_series.run_experiment()"
     ],
     "language": "python",
     "metadata": {},
     "outputs": [
      {
       "output_type": "stream",
       "stream": "stderr",
       "text": [
        "/home/ale/Programs/my-python3-env/lib/python3.3/site-packages/scipy/sparse/compressed.py:121: UserWarning: indptr array has non-integer dtype (float64)\n",
        "  % self.indptr.dtype.name )\n"
       ]
      }
     ],
     "prompt_number": 5
    },
    {
     "cell_type": "code",
     "collapsed": false,
     "input": [
      "boxplot(results)\n",
      "None"
     ],
     "language": "python",
     "metadata": {},
     "outputs": [
      {
       "output_type": "display_data",
       "png": "[encoded data removed]"
      }
     ],
     "prompt_number": 10
    },
    {
     "cell_type": "code",
     "collapsed": false,
     "input": [
      "another_experiment_series = bc.ESOverTrainingProportion(aBookCollection, classification_model)\n",
      "another_results = another_experiment_series.run_experiment()"
     ],
     "language": "python",
     "metadata": {},
     "outputs": [
      {
       "output_type": "stream",
       "stream": "stderr",
       "text": [
        "/home/ale/Programs/my-python3-env/lib/python3.3/site-packages/scipy/sparse/compressed.py:121: UserWarning: indptr array has non-integer dtype (float64)\n",
        "  % self.indptr.dtype.name )\n"
       ]
      }
     ],
     "prompt_number": 9
    },
    {
     "cell_type": "code",
     "collapsed": false,
     "input": [
      "boxplot(another_results)\n",
      "None"
     ],
     "language": "python",
     "metadata": {},
     "outputs": [
      {
       "output_type": "display_data",
       "png": "[encoded data removed]"
      }
     ],
     "prompt_number": 10
    },
    {
     "cell_type": "code",
     "collapsed": false,
     "input": [],
     "language": "python",
     "metadata": {},
     "outputs": []
    }
   ],
   "metadata": {}
  }
 ]
}