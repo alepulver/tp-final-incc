{
 "metadata": {
  "name": "Untitled1"
 },
 "nbformat": 3,
 "nbformat_minor": 0,
 "worksheets": [
  {
   "cells": [
    {
     "cell_type": "code",
     "collapsed": false,
     "input": [
      "import book_classification as bc\n",
      "import shelve\n",
      "import pandas\n",
      "import numpy\n",
      "import matplotlib.pyplot as plt\n",
      "from sklearn import svm, decomposition, cross_validation, pipeline"
     ],
     "language": "python",
     "metadata": {},
     "outputs": [],
     "prompt_number": 1
    },
    {
     "cell_type": "code",
     "collapsed": false,
     "input": [
      "myShelf = shelve.open(\"storage_new.db\")\n",
      "aBookCollection = myShelf['aBookCollection']\n",
      "print(len(aBookCollection))\n",
      "del myShelf"
     ],
     "language": "python",
     "metadata": {},
     "outputs": [
      {
       "output_type": "stream",
       "stream": "stdout",
       "text": [
        "597\n"
       ]
      }
     ],
     "prompt_number": 2
    },
    {
     "cell_type": "code",
     "collapsed": false,
     "input": [
      "with bc.RandomContext(123):\n",
      "    anotherCollection = aBookCollection.selection().exclude_authors_below(7)\n",
      "    print(len(anotherCollection))\n",
      "    train_collection, test_collection = anotherCollection.selection().split_per_author_percentage(0.7)"
     ],
     "language": "python",
     "metadata": {},
     "outputs": [
      {
       "output_type": "stream",
       "stream": "stdout",
       "text": [
        "508\n"
       ]
      }
     ],
     "prompt_number": 3
    },
    {
     "cell_type": "code",
     "collapsed": false,
     "input": [
      "tokenizer = bc.BasicTokenizer()\n",
      "grouper = bc.FixedGrouper(500)\n",
      "extractor = bc.EntropiesExtractor(tokenizer, grouper)\n",
      "matrix_extractor = bc.SklExtractor(extractor)\n",
      "predictor = pipeline.Pipeline([\n",
      "\t\t('extractor', bc.SklExtractor(extractor)),\n",
      "\t\t('svd', decomposition.TruncatedSVD(50)),\n",
      "\t\t('svm', svm.SVC(class_weight='auto'))])\n",
      "books, authors = train_collection.as_arrays()\n",
      "scores = cross_validation.cross_val_score(predictor, books, authors,\n",
      "\tscoring='accuracy', cv=cross_validation.StratifiedKFold(authors, n_folds=4))\n",
      "    #scoring='accuracy', cv=cross_validation.ShuffleSplit(len(authors)))"
     ],
     "language": "python",
     "metadata": {},
     "outputs": [
      {
       "ename": "KeyboardInterrupt",
       "evalue": "",
       "output_type": "pyerr",
       "traceback": [
        "\u001b[1;31m---------------------------------------------------------------------------\u001b[0m\n\u001b[1;31mKeyboardInterrupt\u001b[0m                         Traceback (most recent call last)",
        "\u001b[1;32m<ipython-input-7-aef7fea65152>\u001b[0m in \u001b[0;36m<module>\u001b[1;34m()\u001b[0m\n\u001b[0;32m      9\u001b[0m \u001b[0mbooks\u001b[0m\u001b[1;33m,\u001b[0m \u001b[0mauthors\u001b[0m \u001b[1;33m=\u001b[0m \u001b[0mtrain_collection\u001b[0m\u001b[1;33m.\u001b[0m\u001b[0mas_arrays\u001b[0m\u001b[1;33m(\u001b[0m\u001b[1;33m)\u001b[0m\u001b[1;33m\u001b[0m\u001b[0m\n\u001b[0;32m     10\u001b[0m scores = cross_validation.cross_val_score(predictor, books, authors,\n\u001b[1;32m---> 11\u001b[1;33m \tscoring='accuracy', cv=cross_validation.StratifiedKFold(authors, n_folds=4))\n\u001b[0m\u001b[0;32m     12\u001b[0m     \u001b[1;31m#scoring='accuracy', cv=cross_validation.ShuffleSplit(len(authors)))\u001b[0m\u001b[1;33m\u001b[0m\u001b[1;33m\u001b[0m\u001b[0m\n",
        "\u001b[1;32m/home/ale/Programs/my-python3-env/lib/python3.3/site-packages/sklearn/cross_validation.py\u001b[0m in \u001b[0;36mcross_val_score\u001b[1;34m(estimator, X, y, scoring, cv, n_jobs, verbose, fit_params, score_func, pre_dispatch)\u001b[0m\n\u001b[0;32m   1150\u001b[0m         delayed(_cross_val_score)(clone(estimator), X, y, scorer, train, test,\n\u001b[0;32m   1151\u001b[0m                                   verbose, fit_params)\n\u001b[1;32m-> 1152\u001b[1;33m         for train, test in cv)\n\u001b[0m\u001b[0;32m   1153\u001b[0m     \u001b[1;32mreturn\u001b[0m \u001b[0mnp\u001b[0m\u001b[1;33m.\u001b[0m\u001b[0marray\u001b[0m\u001b[1;33m(\u001b[0m\u001b[0mscores\u001b[0m\u001b[1;33m)\u001b[0m\u001b[1;33m\u001b[0m\u001b[0m\n\u001b[0;32m   1154\u001b[0m \u001b[1;33m\u001b[0m\u001b[0m\n",
        "\u001b[1;32m/home/ale/Programs/my-python3-env/lib/python3.3/site-packages/sklearn/externals/joblib/parallel.py\u001b[0m in \u001b[0;36m__call__\u001b[1;34m(self, iterable)\u001b[0m\n\u001b[0;32m    515\u001b[0m         \u001b[1;32mtry\u001b[0m\u001b[1;33m:\u001b[0m\u001b[1;33m\u001b[0m\u001b[0m\n\u001b[0;32m    516\u001b[0m             \u001b[1;32mfor\u001b[0m \u001b[0mfunction\u001b[0m\u001b[1;33m,\u001b[0m \u001b[0margs\u001b[0m\u001b[1;33m,\u001b[0m \u001b[0mkwargs\u001b[0m \u001b[1;32min\u001b[0m \u001b[0miterable\u001b[0m\u001b[1;33m:\u001b[0m\u001b[1;33m\u001b[0m\u001b[0m\n\u001b[1;32m--> 517\u001b[1;33m                 \u001b[0mself\u001b[0m\u001b[1;33m.\u001b[0m\u001b[0mdispatch\u001b[0m\u001b[1;33m(\u001b[0m\u001b[0mfunction\u001b[0m\u001b[1;33m,\u001b[0m \u001b[0margs\u001b[0m\u001b[1;33m,\u001b[0m \u001b[0mkwargs\u001b[0m\u001b[1;33m)\u001b[0m\u001b[1;33m\u001b[0m\u001b[0m\n\u001b[0m\u001b[0;32m    518\u001b[0m \u001b[1;33m\u001b[0m\u001b[0m\n\u001b[0;32m    519\u001b[0m             \u001b[0mself\u001b[0m\u001b[1;33m.\u001b[0m\u001b[0mretrieve\u001b[0m\u001b[1;33m(\u001b[0m\u001b[1;33m)\u001b[0m\u001b[1;33m\u001b[0m\u001b[0m\n",
        "\u001b[1;32m/home/ale/Programs/my-python3-env/lib/python3.3/site-packages/sklearn/externals/joblib/parallel.py\u001b[0m in \u001b[0;36mdispatch\u001b[1;34m(self, func, args, kwargs)\u001b[0m\n\u001b[0;32m    310\u001b[0m         \"\"\"\n\u001b[0;32m    311\u001b[0m         \u001b[1;32mif\u001b[0m \u001b[0mself\u001b[0m\u001b[1;33m.\u001b[0m\u001b[0m_pool\u001b[0m \u001b[1;32mis\u001b[0m \u001b[1;32mNone\u001b[0m\u001b[1;33m:\u001b[0m\u001b[1;33m\u001b[0m\u001b[0m\n\u001b[1;32m--> 312\u001b[1;33m             \u001b[0mjob\u001b[0m \u001b[1;33m=\u001b[0m \u001b[0mImmediateApply\u001b[0m\u001b[1;33m(\u001b[0m\u001b[0mfunc\u001b[0m\u001b[1;33m,\u001b[0m \u001b[0margs\u001b[0m\u001b[1;33m,\u001b[0m \u001b[0mkwargs\u001b[0m\u001b[1;33m)\u001b[0m\u001b[1;33m\u001b[0m\u001b[0m\n\u001b[0m\u001b[0;32m    313\u001b[0m             \u001b[0mindex\u001b[0m \u001b[1;33m=\u001b[0m \u001b[0mlen\u001b[0m\u001b[1;33m(\u001b[0m\u001b[0mself\u001b[0m\u001b[1;33m.\u001b[0m\u001b[0m_jobs\u001b[0m\u001b[1;33m)\u001b[0m\u001b[1;33m\u001b[0m\u001b[0m\n\u001b[0;32m    314\u001b[0m             \u001b[1;32mif\u001b[0m \u001b[1;32mnot\u001b[0m \u001b[0m_verbosity_filter\u001b[0m\u001b[1;33m(\u001b[0m\u001b[0mindex\u001b[0m\u001b[1;33m,\u001b[0m \u001b[0mself\u001b[0m\u001b[1;33m.\u001b[0m\u001b[0mverbose\u001b[0m\u001b[1;33m)\u001b[0m\u001b[1;33m:\u001b[0m\u001b[1;33m\u001b[0m\u001b[0m\n",
        "\u001b[1;32m/home/ale/Programs/my-python3-env/lib/python3.3/site-packages/sklearn/externals/joblib/parallel.py\u001b[0m in \u001b[0;36m__init__\u001b[1;34m(self, func, args, kwargs)\u001b[0m\n\u001b[0;32m    134\u001b[0m         \u001b[1;31m# Don't delay the application, to avoid keeping the input\u001b[0m\u001b[1;33m\u001b[0m\u001b[1;33m\u001b[0m\u001b[0m\n\u001b[0;32m    135\u001b[0m         \u001b[1;31m# arguments in memory\u001b[0m\u001b[1;33m\u001b[0m\u001b[1;33m\u001b[0m\u001b[0m\n\u001b[1;32m--> 136\u001b[1;33m         \u001b[0mself\u001b[0m\u001b[1;33m.\u001b[0m\u001b[0mresults\u001b[0m \u001b[1;33m=\u001b[0m \u001b[0mfunc\u001b[0m\u001b[1;33m(\u001b[0m\u001b[1;33m*\u001b[0m\u001b[0margs\u001b[0m\u001b[1;33m,\u001b[0m \u001b[1;33m**\u001b[0m\u001b[0mkwargs\u001b[0m\u001b[1;33m)\u001b[0m\u001b[1;33m\u001b[0m\u001b[0m\n\u001b[0m\u001b[0;32m    137\u001b[0m \u001b[1;33m\u001b[0m\u001b[0m\n\u001b[0;32m    138\u001b[0m     \u001b[1;32mdef\u001b[0m \u001b[0mget\u001b[0m\u001b[1;33m(\u001b[0m\u001b[0mself\u001b[0m\u001b[1;33m)\u001b[0m\u001b[1;33m:\u001b[0m\u001b[1;33m\u001b[0m\u001b[0m\n",
        "\u001b[1;32m/home/ale/Programs/my-python3-env/lib/python3.3/site-packages/sklearn/cross_validation.py\u001b[0m in \u001b[0;36m_cross_val_score\u001b[1;34m(estimator, X, y, scorer, train, test, verbose, fit_params)\u001b[0m\n\u001b[0;32m   1062\u001b[0m         \u001b[0mscore\u001b[0m \u001b[1;33m=\u001b[0m \u001b[0mestimator\u001b[0m\u001b[1;33m.\u001b[0m\u001b[0mscore\u001b[0m\u001b[1;33m(\u001b[0m\u001b[0mX_test\u001b[0m\u001b[1;33m,\u001b[0m \u001b[0my_test\u001b[0m\u001b[1;33m)\u001b[0m\u001b[1;33m\u001b[0m\u001b[0m\n\u001b[0;32m   1063\u001b[0m     \u001b[1;32melse\u001b[0m\u001b[1;33m:\u001b[0m\u001b[1;33m\u001b[0m\u001b[0m\n\u001b[1;32m-> 1064\u001b[1;33m         \u001b[0mscore\u001b[0m \u001b[1;33m=\u001b[0m \u001b[0mscorer\u001b[0m\u001b[1;33m(\u001b[0m\u001b[0mestimator\u001b[0m\u001b[1;33m,\u001b[0m \u001b[0mX_test\u001b[0m\u001b[1;33m,\u001b[0m \u001b[0my_test\u001b[0m\u001b[1;33m)\u001b[0m\u001b[1;33m\u001b[0m\u001b[0m\n\u001b[0m\u001b[0;32m   1065\u001b[0m         \u001b[1;32mif\u001b[0m \u001b[1;32mnot\u001b[0m \u001b[0misinstance\u001b[0m\u001b[1;33m(\u001b[0m\u001b[0mscore\u001b[0m\u001b[1;33m,\u001b[0m \u001b[0mnumbers\u001b[0m\u001b[1;33m.\u001b[0m\u001b[0mNumber\u001b[0m\u001b[1;33m)\u001b[0m\u001b[1;33m:\u001b[0m\u001b[1;33m\u001b[0m\u001b[0m\n\u001b[0;32m   1066\u001b[0m             raise ValueError(\"scoring must return a number, got %s (%s)\"\n",
        "\u001b[1;32m/home/ale/Programs/my-python3-env/lib/python3.3/site-packages/sklearn/metrics/scorer.py\u001b[0m in \u001b[0;36m__call__\u001b[1;34m(self, estimator, X, y_true)\u001b[0m\n\u001b[0;32m     75\u001b[0m             \u001b[0mScore\u001b[0m \u001b[0mfunction\u001b[0m \u001b[0mapplied\u001b[0m \u001b[0mto\u001b[0m \u001b[0mprediction\u001b[0m \u001b[0mof\u001b[0m \u001b[0mestimator\u001b[0m \u001b[0mon\u001b[0m \u001b[0mX\u001b[0m\u001b[1;33m.\u001b[0m\u001b[1;33m\u001b[0m\u001b[0m\n\u001b[0;32m     76\u001b[0m         \"\"\"\n\u001b[1;32m---> 77\u001b[1;33m         \u001b[0my_pred\u001b[0m \u001b[1;33m=\u001b[0m \u001b[0mestimator\u001b[0m\u001b[1;33m.\u001b[0m\u001b[0mpredict\u001b[0m\u001b[1;33m(\u001b[0m\u001b[0mX\u001b[0m\u001b[1;33m)\u001b[0m\u001b[1;33m\u001b[0m\u001b[0m\n\u001b[0m\u001b[0;32m     78\u001b[0m         \u001b[1;32mreturn\u001b[0m \u001b[0mself\u001b[0m\u001b[1;33m.\u001b[0m\u001b[0m_sign\u001b[0m \u001b[1;33m*\u001b[0m \u001b[0mself\u001b[0m\u001b[1;33m.\u001b[0m\u001b[0m_score_func\u001b[0m\u001b[1;33m(\u001b[0m\u001b[0my_true\u001b[0m\u001b[1;33m,\u001b[0m \u001b[0my_pred\u001b[0m\u001b[1;33m,\u001b[0m \u001b[1;33m**\u001b[0m\u001b[0mself\u001b[0m\u001b[1;33m.\u001b[0m\u001b[0m_kwargs\u001b[0m\u001b[1;33m)\u001b[0m\u001b[1;33m\u001b[0m\u001b[0m\n\u001b[0;32m     79\u001b[0m \u001b[1;33m\u001b[0m\u001b[0m\n",
        "\u001b[1;32m/home/ale/Programs/my-python3-env/lib/python3.3/site-packages/sklearn/pipeline.py\u001b[0m in \u001b[0;36mpredict\u001b[1;34m(self, X)\u001b[0m\n\u001b[0;32m    148\u001b[0m         \u001b[0mXt\u001b[0m \u001b[1;33m=\u001b[0m \u001b[0mX\u001b[0m\u001b[1;33m\u001b[0m\u001b[0m\n\u001b[0;32m    149\u001b[0m         \u001b[1;32mfor\u001b[0m \u001b[0mname\u001b[0m\u001b[1;33m,\u001b[0m \u001b[0mtransform\u001b[0m \u001b[1;32min\u001b[0m \u001b[0mself\u001b[0m\u001b[1;33m.\u001b[0m\u001b[0msteps\u001b[0m\u001b[1;33m[\u001b[0m\u001b[1;33m:\u001b[0m\u001b[1;33m-\u001b[0m\u001b[1;36m1\u001b[0m\u001b[1;33m]\u001b[0m\u001b[1;33m:\u001b[0m\u001b[1;33m\u001b[0m\u001b[0m\n\u001b[1;32m--> 150\u001b[1;33m             \u001b[0mXt\u001b[0m \u001b[1;33m=\u001b[0m \u001b[0mtransform\u001b[0m\u001b[1;33m.\u001b[0m\u001b[0mtransform\u001b[0m\u001b[1;33m(\u001b[0m\u001b[0mXt\u001b[0m\u001b[1;33m)\u001b[0m\u001b[1;33m\u001b[0m\u001b[0m\n\u001b[0m\u001b[0;32m    151\u001b[0m         \u001b[1;32mreturn\u001b[0m \u001b[0mself\u001b[0m\u001b[1;33m.\u001b[0m\u001b[0msteps\u001b[0m\u001b[1;33m[\u001b[0m\u001b[1;33m-\u001b[0m\u001b[1;36m1\u001b[0m\u001b[1;33m]\u001b[0m\u001b[1;33m[\u001b[0m\u001b[1;33m-\u001b[0m\u001b[1;36m1\u001b[0m\u001b[1;33m]\u001b[0m\u001b[1;33m.\u001b[0m\u001b[0mpredict\u001b[0m\u001b[1;33m(\u001b[0m\u001b[0mXt\u001b[0m\u001b[1;33m)\u001b[0m\u001b[1;33m\u001b[0m\u001b[0m\n\u001b[0;32m    152\u001b[0m \u001b[1;33m\u001b[0m\u001b[0m\n",
        "\u001b[1;32m/home/ale/Development/tp-final-incc/book_classification/sklearn_compat.py\u001b[0m in \u001b[0;36mtransform\u001b[1;34m(self, books_list)\u001b[0m\n\u001b[0;32m     14\u001b[0m         \u001b[1;32mdef\u001b[0m \u001b[0mtransform\u001b[0m\u001b[1;33m(\u001b[0m\u001b[0mself\u001b[0m\u001b[1;33m,\u001b[0m \u001b[0mbooks_list\u001b[0m\u001b[1;33m)\u001b[0m\u001b[1;33m:\u001b[0m\u001b[1;33m\u001b[0m\u001b[0m\n\u001b[0;32m     15\u001b[0m                 \u001b[0mcollection\u001b[0m \u001b[1;33m=\u001b[0m \u001b[0mbc\u001b[0m\u001b[1;33m.\u001b[0m\u001b[0mBookCollection\u001b[0m\u001b[1;33m.\u001b[0m\u001b[0mfrom_books\u001b[0m\u001b[1;33m(\u001b[0m\u001b[0mbooks_list\u001b[0m\u001b[1;33m)\u001b[0m\u001b[1;33m\u001b[0m\u001b[0m\n\u001b[1;32m---> 16\u001b[1;33m                 \u001b[1;32mreturn\u001b[0m \u001b[0mself\u001b[0m\u001b[1;33m.\u001b[0m\u001b[0m_collection_matrix_extractor\u001b[0m\u001b[1;33m.\u001b[0m\u001b[0mextract_from\u001b[0m\u001b[1;33m(\u001b[0m\u001b[0mcollection\u001b[0m\u001b[1;33m)\u001b[0m\u001b[1;33m\u001b[0m\u001b[0m\n\u001b[0m\u001b[0;32m     17\u001b[0m \u001b[1;33m\u001b[0m\u001b[0m\n\u001b[0;32m     18\u001b[0m \u001b[1;32mclass\u001b[0m \u001b[0mSklPipelineObserver\u001b[0m\u001b[1;33m:\u001b[0m\u001b[1;33m\u001b[0m\u001b[0m\n",
        "\u001b[1;32m/home/ale/Development/tp-final-incc/book_classification/classification.py\u001b[0m in \u001b[0;36mextract_from\u001b[1;34m(self, collection)\u001b[0m\n\u001b[0;32m     78\u001b[0m         \u001b[1;32mdef\u001b[0m \u001b[0mextract_from\u001b[0m\u001b[1;33m(\u001b[0m\u001b[0mself\u001b[0m\u001b[1;33m,\u001b[0m \u001b[0mcollection\u001b[0m\u001b[1;33m)\u001b[0m\u001b[1;33m:\u001b[0m\u001b[1;33m\u001b[0m\u001b[0m\n\u001b[0;32m     79\u001b[0m                 \u001b[0mcollection_features\u001b[0m \u001b[1;33m=\u001b[0m \u001b[0mself\u001b[0m\u001b[1;33m.\u001b[0m\u001b[0m_collection_features_extractor\u001b[0m\u001b[1;33m.\u001b[0m\u001b[0mextract_from\u001b[0m\u001b[1;33m(\u001b[0m\u001b[0mcollection\u001b[0m\u001b[1;33m)\u001b[0m\u001b[1;33m\u001b[0m\u001b[0m\n\u001b[1;32m---> 80\u001b[1;33m                 \u001b[1;32mreturn\u001b[0m \u001b[0mself\u001b[0m\u001b[1;33m.\u001b[0m\u001b[0m_collection_features_encoder\u001b[0m\u001b[1;33m.\u001b[0m\u001b[0mencode\u001b[0m\u001b[1;33m(\u001b[0m\u001b[0mcollection_features\u001b[0m\u001b[1;33m)\u001b[0m\u001b[1;33m\u001b[0m\u001b[0m\n\u001b[0m\u001b[0;32m     81\u001b[0m \u001b[1;33m\u001b[0m\u001b[0m\n\u001b[0;32m     82\u001b[0m \u001b[1;32mclass\u001b[0m \u001b[0mClassificationModel\u001b[0m\u001b[1;33m:\u001b[0m\u001b[1;33m\u001b[0m\u001b[0m\n",
        "\u001b[1;32m/home/ale/Development/tp-final-incc/book_classification/classification.py\u001b[0m in \u001b[0;36mencode\u001b[1;34m(self, collection_features)\u001b[0m\n\u001b[0;32m     62\u001b[0m                         \u001b[0mfeatures\u001b[0m \u001b[1;33m=\u001b[0m \u001b[0mcollection_features\u001b[0m\u001b[1;33m.\u001b[0m\u001b[0mby_book\u001b[0m\u001b[1;33m(\u001b[0m\u001b[0mbook\u001b[0m\u001b[1;33m)\u001b[0m\u001b[1;33m\u001b[0m\u001b[0m\n\u001b[0;32m     63\u001b[0m                         \u001b[1;32mfor\u001b[0m \u001b[0mj\u001b[0m\u001b[1;33m,\u001b[0m\u001b[0mv\u001b[0m \u001b[1;32min\u001b[0m \u001b[0mself\u001b[0m\u001b[1;33m.\u001b[0m\u001b[0m_features_encoder\u001b[0m\u001b[1;33m.\u001b[0m\u001b[0mencode\u001b[0m\u001b[1;33m(\u001b[0m\u001b[0mfeatures\u001b[0m\u001b[1;33m)\u001b[0m\u001b[1;33m:\u001b[0m\u001b[1;33m\u001b[0m\u001b[0m\n\u001b[1;32m---> 64\u001b[1;33m                                 \u001b[0mmatrix\u001b[0m\u001b[1;33m[\u001b[0m\u001b[0mi\u001b[0m\u001b[1;33m,\u001b[0m \u001b[0mj\u001b[0m\u001b[1;33m]\u001b[0m \u001b[1;33m=\u001b[0m \u001b[0mv\u001b[0m\u001b[1;33m\u001b[0m\u001b[0m\n\u001b[0m\u001b[0;32m     65\u001b[0m \u001b[1;33m\u001b[0m\u001b[0m\n\u001b[0;32m     66\u001b[0m                 \u001b[1;32mreturn\u001b[0m \u001b[0mmatrix\u001b[0m\u001b[1;33m\u001b[0m\u001b[0m\n",
        "\u001b[1;32m/home/ale/Programs/my-python3-env/lib/python3.3/site-packages/scipy/sparse/dok.py\u001b[0m in \u001b[0;36m__setitem__\u001b[1;34m(self, key, value)\u001b[0m\n\u001b[0;32m    244\u001b[0m \u001b[1;33m\u001b[0m\u001b[0m\n\u001b[0;32m    245\u001b[0m             \u001b[1;32mif\u001b[0m \u001b[0mnp\u001b[0m\u001b[1;33m.\u001b[0m\u001b[0misscalar\u001b[0m\u001b[1;33m(\u001b[0m\u001b[0mvalue\u001b[0m\u001b[1;33m)\u001b[0m\u001b[1;33m:\u001b[0m\u001b[1;33m\u001b[0m\u001b[0m\n\u001b[1;32m--> 246\u001b[1;33m                 \u001b[1;32mif\u001b[0m \u001b[0mvalue\u001b[0m \u001b[1;33m==\u001b[0m \u001b[1;36m0\u001b[0m\u001b[1;33m:\u001b[0m\u001b[1;33m\u001b[0m\u001b[0m\n\u001b[0m\u001b[0;32m    247\u001b[0m                     \u001b[1;32mif\u001b[0m \u001b[1;33m(\u001b[0m\u001b[0mi\u001b[0m\u001b[1;33m,\u001b[0m\u001b[0mj\u001b[0m\u001b[1;33m)\u001b[0m \u001b[1;32min\u001b[0m \u001b[0mself\u001b[0m\u001b[1;33m:\u001b[0m\u001b[1;33m\u001b[0m\u001b[0m\n\u001b[0;32m    248\u001b[0m                         \u001b[1;32mdel\u001b[0m \u001b[0mself\u001b[0m\u001b[1;33m[\u001b[0m\u001b[1;33m(\u001b[0m\u001b[0mi\u001b[0m\u001b[1;33m,\u001b[0m\u001b[0mj\u001b[0m\u001b[1;33m)\u001b[0m\u001b[1;33m]\u001b[0m\u001b[1;33m\u001b[0m\u001b[0m\n",
        "\u001b[1;31mKeyboardInterrupt\u001b[0m: "
       ]
      }
     ],
     "prompt_number": 7
    },
    {
     "cell_type": "code",
     "collapsed": false,
     "input": [
      "scores"
     ],
     "language": "python",
     "metadata": {},
     "outputs": []
    },
    {
     "cell_type": "code",
     "collapsed": false,
     "input": [
      "mycvsets = cross_validation.KFold(len(authors), n_folds=4, shuffle=True)"
     ],
     "language": "python",
     "metadata": {},
     "outputs": [],
     "prompt_number": 18
    },
    {
     "cell_type": "code",
     "collapsed": false,
     "input": [
      "list(mycvsets)"
     ],
     "language": "python",
     "metadata": {},
     "outputs": [
      {
       "output_type": "pyout",
       "prompt_number": 19,
       "text": [
        "[(array([  0,   1,   2,   4,   5,   6,   7,   8,  10,  11,  12,  13,  14,\n",
        "        15,  16,  18,  19,  20,  22,  23,  25,  27,  28,  29,  32,  36,\n",
        "        38,  41,  43,  46,  47,  48,  49,  50,  52,  53,  54,  55,  56,\n",
        "        57,  58,  59,  60,  62,  63,  65,  66,  67,  69,  70,  71,  72,\n",
        "        75,  78,  79,  81,  83,  85,  86,  88,  89,  90,  91,  92,  93,\n",
        "        94,  97,  98,  99, 100, 101, 102, 103, 104, 105, 107, 108, 111,\n",
        "       112, 113, 114, 115, 116, 117, 121, 122, 124, 125, 126, 127, 128,\n",
        "       129, 130, 131, 132, 135, 136, 137, 139, 140, 141, 143, 145, 146,\n",
        "       148, 149, 150, 151, 152, 153, 154, 155, 156, 158, 159, 160, 162,\n",
        "       163, 164, 165, 166, 169, 170, 173, 174, 175, 176, 177, 178, 179,\n",
        "       180, 181, 182, 183, 184, 185, 187, 188, 189, 190, 192, 193, 194,\n",
        "       197, 198, 199, 200, 201, 202, 203, 204, 205, 206, 207, 208, 209,\n",
        "       210, 211, 213, 214, 215, 216, 217, 218, 219, 220, 222, 224, 225,\n",
        "       226, 228, 229, 230, 231, 232, 233, 236, 237, 238, 239, 240, 241,\n",
        "       242, 243, 244, 246, 247, 248, 249, 250, 251, 252, 253, 255, 256,\n",
        "       257, 258, 260, 261, 263, 264, 265, 267, 268, 269, 270, 272, 275,\n",
        "       277, 279, 280, 281, 282, 283, 284, 285, 286, 289, 290, 291, 292,\n",
        "       293, 294, 296, 297, 300, 301, 302, 303, 304, 305, 307, 308, 311,\n",
        "       312, 313, 314, 318, 319, 320, 321, 322, 324, 325, 326, 327, 328,\n",
        "       329, 330, 332, 333, 334, 335, 336, 337, 339, 340, 341, 342, 343,\n",
        "       345, 347, 348, 349, 350, 353, 356]),\n",
        "  array([  3,   9,  17,  21,  24,  26,  30,  31,  33,  34,  35,  37,  39,\n",
        "        40,  42,  44,  45,  51,  61,  64,  68,  73,  74,  76,  77,  80,\n",
        "        82,  84,  87,  95,  96, 106, 109, 110, 118, 119, 120, 123, 133,\n",
        "       134, 138, 142, 144, 147, 157, 161, 167, 168, 171, 172, 186, 191,\n",
        "       195, 196, 212, 221, 223, 227, 234, 235, 245, 254, 259, 262, 266,\n",
        "       271, 273, 274, 276, 278, 287, 288, 295, 298, 299, 306, 309, 310,\n",
        "       315, 316, 317, 323, 331, 338, 344, 346, 351, 352, 354, 355])),\n",
        " (array([  0,   2,   3,   5,   6,   8,   9,  12,  17,  19,  20,  21,  22,\n",
        "        24,  26,  27,  29,  30,  31,  32,  33,  34,  35,  36,  37,  39,\n",
        "        40,  41,  42,  44,  45,  46,  47,  48,  51,  52,  53,  54,  56,\n",
        "        57,  58,  59,  60,  61,  62,  63,  64,  67,  68,  71,  72,  73,\n",
        "        74,  75,  76,  77,  79,  80,  81,  82,  84,  85,  87,  88,  91,\n",
        "        92,  93,  94,  95,  96,  97,  98, 101, 104, 105, 106, 107, 108,\n",
        "       109, 110, 112, 115, 116, 117, 118, 119, 120, 121, 122, 123, 124,\n",
        "       126, 128, 129, 130, 131, 133, 134, 135, 136, 137, 138, 140, 141,\n",
        "       142, 143, 144, 145, 147, 151, 153, 154, 155, 157, 159, 160, 161,\n",
        "       162, 163, 164, 165, 166, 167, 168, 171, 172, 173, 174, 175, 176,\n",
        "       177, 178, 179, 180, 181, 183, 184, 185, 186, 187, 189, 190, 191,\n",
        "       192, 193, 195, 196, 198, 199, 200, 201, 202, 204, 205, 207, 208,\n",
        "       209, 210, 211, 212, 213, 216, 218, 219, 220, 221, 223, 225, 226,\n",
        "       227, 228, 229, 230, 231, 234, 235, 238, 240, 242, 243, 244, 245,\n",
        "       246, 247, 248, 251, 252, 254, 259, 261, 262, 263, 264, 265, 266,\n",
        "       267, 268, 269, 270, 271, 272, 273, 274, 275, 276, 277, 278, 279,\n",
        "       280, 281, 282, 283, 284, 285, 287, 288, 289, 290, 292, 295, 296,\n",
        "       297, 298, 299, 300, 303, 304, 305, 306, 307, 308, 309, 310, 314,\n",
        "       315, 316, 317, 318, 321, 322, 323, 324, 325, 326, 327, 328, 329,\n",
        "       331, 334, 335, 336, 337, 338, 339, 340, 341, 342, 343, 344, 345,\n",
        "       346, 347, 349, 351, 352, 353, 354, 355]),\n",
        "  array([  1,   4,   7,  10,  11,  13,  14,  15,  16,  18,  23,  25,  28,\n",
        "        38,  43,  49,  50,  55,  65,  66,  69,  70,  78,  83,  86,  89,\n",
        "        90,  99, 100, 102, 103, 111, 113, 114, 125, 127, 132, 139, 146,\n",
        "       148, 149, 150, 152, 156, 158, 169, 170, 182, 188, 194, 197, 203,\n",
        "       206, 214, 215, 217, 222, 224, 232, 233, 236, 237, 239, 241, 249,\n",
        "       250, 253, 255, 256, 257, 258, 260, 286, 291, 293, 294, 301, 302,\n",
        "       311, 312, 313, 319, 320, 330, 332, 333, 348, 350, 356])),\n",
        " (array([  0,   1,   2,   3,   4,   5,   7,   9,  10,  11,  13,  14,  15,\n",
        "        16,  17,  18,  19,  21,  22,  23,  24,  25,  26,  27,  28,  30,\n",
        "        31,  32,  33,  34,  35,  36,  37,  38,  39,  40,  41,  42,  43,\n",
        "        44,  45,  49,  50,  51,  52,  55,  56,  59,  61,  62,  64,  65,\n",
        "        66,  68,  69,  70,  71,  72,  73,  74,  75,  76,  77,  78,  80,\n",
        "        82,  83,  84,  85,  86,  87,  88,  89,  90,  91,  92,  93,  95,\n",
        "        96,  98,  99, 100, 102, 103, 105, 106, 109, 110, 111, 113, 114,\n",
        "       115, 117, 118, 119, 120, 121, 123, 125, 126, 127, 128, 130, 131,\n",
        "       132, 133, 134, 135, 138, 139, 140, 142, 144, 145, 146, 147, 148,\n",
        "       149, 150, 151, 152, 155, 156, 157, 158, 161, 165, 167, 168, 169,\n",
        "       170, 171, 172, 173, 174, 178, 180, 181, 182, 186, 187, 188, 189,\n",
        "       190, 191, 192, 194, 195, 196, 197, 198, 200, 201, 203, 204, 206,\n",
        "       211, 212, 214, 215, 216, 217, 219, 220, 221, 222, 223, 224, 226,\n",
        "       227, 228, 230, 231, 232, 233, 234, 235, 236, 237, 238, 239, 240,\n",
        "       241, 243, 245, 246, 247, 249, 250, 252, 253, 254, 255, 256, 257,\n",
        "       258, 259, 260, 261, 262, 264, 265, 266, 270, 271, 272, 273, 274,\n",
        "       275, 276, 278, 280, 283, 286, 287, 288, 291, 293, 294, 295, 296,\n",
        "       297, 298, 299, 300, 301, 302, 303, 304, 305, 306, 307, 309, 310,\n",
        "       311, 312, 313, 315, 316, 317, 319, 320, 321, 323, 325, 328, 330,\n",
        "       331, 332, 333, 334, 336, 337, 338, 339, 340, 341, 343, 344, 346,\n",
        "       348, 350, 351, 352, 353, 354, 355, 356]),\n",
        "  array([  6,   8,  12,  20,  29,  46,  47,  48,  53,  54,  57,  58,  60,\n",
        "        63,  67,  79,  81,  94,  97, 101, 104, 107, 108, 112, 116, 122,\n",
        "       124, 129, 136, 137, 141, 143, 153, 154, 159, 160, 162, 163, 164,\n",
        "       166, 175, 176, 177, 179, 183, 184, 185, 193, 199, 202, 205, 207,\n",
        "       208, 209, 210, 213, 218, 225, 229, 242, 244, 248, 251, 263, 267,\n",
        "       268, 269, 277, 279, 281, 282, 284, 285, 289, 290, 292, 308, 314,\n",
        "       318, 322, 324, 326, 327, 329, 335, 342, 345, 347, 349])),\n",
        " (array([  1,   3,   4,   6,   7,   8,   9,  10,  11,  12,  13,  14,  15,\n",
        "        16,  17,  18,  20,  21,  23,  24,  25,  26,  28,  29,  30,  31,\n",
        "        33,  34,  35,  37,  38,  39,  40,  42,  43,  44,  45,  46,  47,\n",
        "        48,  49,  50,  51,  53,  54,  55,  57,  58,  60,  61,  63,  64,\n",
        "        65,  66,  67,  68,  69,  70,  73,  74,  76,  77,  78,  79,  80,\n",
        "        81,  82,  83,  84,  86,  87,  89,  90,  94,  95,  96,  97,  99,\n",
        "       100, 101, 102, 103, 104, 106, 107, 108, 109, 110, 111, 112, 113,\n",
        "       114, 116, 118, 119, 120, 122, 123, 124, 125, 127, 129, 132, 133,\n",
        "       134, 136, 137, 138, 139, 141, 142, 143, 144, 146, 147, 148, 149,\n",
        "       150, 152, 153, 154, 156, 157, 158, 159, 160, 161, 162, 163, 164,\n",
        "       166, 167, 168, 169, 170, 171, 172, 175, 176, 177, 179, 182, 183,\n",
        "       184, 185, 186, 188, 191, 193, 194, 195, 196, 197, 199, 202, 203,\n",
        "       205, 206, 207, 208, 209, 210, 212, 213, 214, 215, 217, 218, 221,\n",
        "       222, 223, 224, 225, 227, 229, 232, 233, 234, 235, 236, 237, 239,\n",
        "       241, 242, 244, 245, 248, 249, 250, 251, 253, 254, 255, 256, 257,\n",
        "       258, 259, 260, 262, 263, 266, 267, 268, 269, 271, 273, 274, 276,\n",
        "       277, 278, 279, 281, 282, 284, 285, 286, 287, 288, 289, 290, 291,\n",
        "       292, 293, 294, 295, 298, 299, 301, 302, 306, 308, 309, 310, 311,\n",
        "       312, 313, 314, 315, 316, 317, 318, 319, 320, 322, 323, 324, 326,\n",
        "       327, 329, 330, 331, 332, 333, 335, 338, 342, 344, 345, 346, 347,\n",
        "       348, 349, 350, 351, 352, 354, 355, 356]),\n",
        "  array([  0,   2,   5,  19,  22,  27,  32,  36,  41,  52,  56,  59,  62,\n",
        "        71,  72,  75,  85,  88,  91,  92,  93,  98, 105, 115, 117, 121,\n",
        "       126, 128, 130, 131, 135, 140, 145, 151, 155, 165, 173, 174, 178,\n",
        "       180, 181, 187, 189, 190, 192, 198, 200, 201, 204, 211, 216, 219,\n",
        "       220, 226, 228, 230, 231, 238, 240, 243, 246, 247, 252, 261, 264,\n",
        "       265, 270, 272, 275, 280, 283, 296, 297, 300, 303, 304, 305, 307,\n",
        "       321, 325, 328, 334, 336, 337, 339, 340, 341, 343, 353]))]"
       ]
      }
     ],
     "prompt_number": 19
    },
    {
     "cell_type": "code",
     "collapsed": false,
     "input": [],
     "language": "python",
     "metadata": {},
     "outputs": []
    }
   ],
   "metadata": {}
  }
 ]
}