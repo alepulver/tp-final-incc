{
 "metadata": {
  "name": "test-classification"
 },
 "nbformat": 3,
 "nbformat_minor": 0,
 "worksheets": [
  {
   "cells": [
    {
     "cell_type": "code",
     "collapsed": false,
     "input": [
      "import book_classification as bc\n",
      "import shelve\n",
      "import pandas\n",
      "import numpy\n",
      "import matplotlib.pyplot as plt\n",
      "from sklearn import svm, decomposition, pipeline"
     ],
     "language": "python",
     "metadata": {},
     "outputs": [],
     "prompt_number": 1
    },
    {
     "cell_type": "code",
     "collapsed": false,
     "input": [
      "myShelf = shelve.open(\"storage_new.db\")\n",
      "aBookCollection = myShelf['aBookCollection']\n",
      "del myShelf"
     ],
     "language": "python",
     "metadata": {},
     "outputs": [],
     "prompt_number": 2
    },
    {
     "cell_type": "code",
     "collapsed": false,
     "input": [
      "tokenizer = bc.BasicTokenizer()\n",
      "vd = bc.VocabularyDistribution(aBookCollection, tokenizer)"
     ],
     "language": "python",
     "metadata": {},
     "outputs": [
      {
       "ename": "AttributeError",
       "evalue": "'module' object has no attribute 'VocabularyDistribution'",
       "output_type": "pyerr",
       "traceback": [
        "\u001b[1;31m---------------------------------------------------------------------------\u001b[0m\n\u001b[1;31mAttributeError\u001b[0m                            Traceback (most recent call last)",
        "\u001b[1;32m<ipython-input-3-8e6b7621fe99>\u001b[0m in \u001b[0;36m<module>\u001b[1;34m()\u001b[0m\n\u001b[0;32m      1\u001b[0m \u001b[0mtokenizer\u001b[0m \u001b[1;33m=\u001b[0m \u001b[0mbc\u001b[0m\u001b[1;33m.\u001b[0m\u001b[0mBasicTokenizer\u001b[0m\u001b[1;33m(\u001b[0m\u001b[1;33m)\u001b[0m\u001b[1;33m\u001b[0m\u001b[0m\n\u001b[1;32m----> 2\u001b[1;33m \u001b[0mvd\u001b[0m \u001b[1;33m=\u001b[0m \u001b[0mbc\u001b[0m\u001b[1;33m.\u001b[0m\u001b[0mVocabularyDistribution\u001b[0m\u001b[1;33m(\u001b[0m\u001b[0maBookCollection\u001b[0m\u001b[1;33m,\u001b[0m \u001b[0mtokenizer\u001b[0m\u001b[1;33m)\u001b[0m\u001b[1;33m\u001b[0m\u001b[0m\n\u001b[0m",
        "\u001b[1;31mAttributeError\u001b[0m: 'module' object has no attribute 'VocabularyDistribution'"
       ]
      }
     ],
     "prompt_number": 3
    },
    {
     "cell_type": "code",
     "collapsed": false,
     "input": [
      "pandas.Series(vd.as_dataframe()).plot(kind='bar')"
     ],
     "language": "python",
     "metadata": {},
     "outputs": [
      {
       "ename": "NameError",
       "evalue": "name 'vd' is not defined",
       "output_type": "pyerr",
       "traceback": [
        "\u001b[1;31m---------------------------------------------------------------------------\u001b[0m\n\u001b[1;31mNameError\u001b[0m                                 Traceback (most recent call last)",
        "\u001b[1;32m<ipython-input-4-e35667465ad1>\u001b[0m in \u001b[0;36m<module>\u001b[1;34m()\u001b[0m\n\u001b[1;32m----> 1\u001b[1;33m \u001b[0mpandas\u001b[0m\u001b[1;33m.\u001b[0m\u001b[0mSeries\u001b[0m\u001b[1;33m(\u001b[0m\u001b[0mvd\u001b[0m\u001b[1;33m.\u001b[0m\u001b[0mas_dataframe\u001b[0m\u001b[1;33m(\u001b[0m\u001b[1;33m)\u001b[0m\u001b[1;33m)\u001b[0m\u001b[1;33m.\u001b[0m\u001b[0mplot\u001b[0m\u001b[1;33m(\u001b[0m\u001b[0mkind\u001b[0m\u001b[1;33m=\u001b[0m\u001b[1;34m'bar'\u001b[0m\u001b[1;33m)\u001b[0m\u001b[1;33m\u001b[0m\u001b[0m\n\u001b[0m",
        "\u001b[1;31mNameError\u001b[0m: name 'vd' is not defined"
       ]
      }
     ],
     "prompt_number": 4
    },
    {
     "cell_type": "code",
     "collapsed": false,
     "input": [
      "training, testing = aBookCollection.selection().exclude_authors_below(7).selection().split_per_author_percentage(.7)"
     ],
     "language": "python",
     "metadata": {},
     "outputs": [],
     "prompt_number": 5
    },
    {
     "cell_type": "code",
     "collapsed": false,
     "input": [
      "tokenizer = bc.BasicTokenizer()\n",
      "grouper = bc.FixedGrouper(500)\n",
      "extractor = bc.EntropiesExtractor(tokenizer, grouper)\n",
      "#extractor = bc.FrequenciesExtractor(tokenizer)\n",
      "#model = bc.ClassificationModel(training, extractor, decomposition.TruncatedSVD(50), svm.SVC())\n",
      "model = pipeline.Pipeline([('svd', decomposition.TruncatedSVD(50)), ('svm', svm.SVC(class_weight=\"auto\"))])\n",
      "predictor = bc.ClassificationModel(extractor, model)\n",
      "#books, authors = training.as_arrays()\n",
      "predictor.fit(training)"
     ],
     "language": "python",
     "metadata": {},
     "outputs": [],
     "prompt_number": 6
    },
    {
     "cell_type": "code",
     "collapsed": false,
     "input": [
      "books2, authors2 = testing.as_arrays()\n",
      "results = predictor.predict(testing)"
     ],
     "language": "python",
     "metadata": {},
     "outputs": [],
     "prompt_number": 5
    },
    {
     "cell_type": "code",
     "collapsed": false,
     "input": [
      "from sklearn.metrics import classification_report, confusion_matrix\n",
      "expected = results._expected\n",
      "predicted = results._predicted\n",
      "#for book in testing.books():\n",
      "#    expected.append(book.author())\n",
      "#    predicted.append(results[book])\n",
      "plt.pcolor(confusion_matrix(expected, predictor.decode_authors(predicted)))"
     ],
     "language": "python",
     "metadata": {},
     "outputs": [
      {
       "ename": "AttributeError",
       "evalue": "'numpy.ndarray' object has no attribute '_expected'",
       "output_type": "pyerr",
       "traceback": [
        "\u001b[1;31m---------------------------------------------------------------------------\u001b[0m\n\u001b[1;31mAttributeError\u001b[0m                            Traceback (most recent call last)",
        "\u001b[1;32m<ipython-input-9-49f94fea6a7d>\u001b[0m in \u001b[0;36m<module>\u001b[1;34m()\u001b[0m\n\u001b[0;32m      1\u001b[0m \u001b[1;32mfrom\u001b[0m \u001b[0msklearn\u001b[0m\u001b[1;33m.\u001b[0m\u001b[0mmetrics\u001b[0m \u001b[1;32mimport\u001b[0m \u001b[0mclassification_report\u001b[0m\u001b[1;33m,\u001b[0m \u001b[0mconfusion_matrix\u001b[0m\u001b[1;33m\u001b[0m\u001b[0m\n\u001b[1;32m----> 2\u001b[1;33m \u001b[0mexpected\u001b[0m \u001b[1;33m=\u001b[0m \u001b[0mresults\u001b[0m\u001b[1;33m.\u001b[0m\u001b[0m_expected\u001b[0m\u001b[1;33m\u001b[0m\u001b[0m\n\u001b[0m\u001b[0;32m      3\u001b[0m \u001b[0mpredicted\u001b[0m \u001b[1;33m=\u001b[0m \u001b[0mresults\u001b[0m\u001b[1;33m.\u001b[0m\u001b[0m_predicted\u001b[0m\u001b[1;33m\u001b[0m\u001b[0m\n\u001b[0;32m      4\u001b[0m \u001b[1;31m#for book in testing.books():\u001b[0m\u001b[1;33m\u001b[0m\u001b[1;33m\u001b[0m\u001b[0m\n\u001b[0;32m      5\u001b[0m \u001b[1;31m#    expected.append(book.author())\u001b[0m\u001b[1;33m\u001b[0m\u001b[1;33m\u001b[0m\u001b[0m\n",
        "\u001b[1;31mAttributeError\u001b[0m: 'numpy.ndarray' object has no attribute '_expected'"
       ]
      }
     ],
     "prompt_number": 9
    },
    {
     "cell_type": "code",
     "collapsed": false,
     "input": [
      "print(classification_report(expected, predictor.decode_authors(predicted)))"
     ],
     "language": "python",
     "metadata": {},
     "outputs": [
      {
       "output_type": "stream",
       "stream": "stdout",
       "text": [
        "             precision    recall  f1-score   support\n",
        "\n",
        "Anthony Hamilton       1.00      1.00      1.00         3\n",
        "Arthur Robert Harding       1.00      1.00      1.00         2\n",
        " Bret Harte       1.00      0.71      0.83        17\n",
        "Charles Dickens       0.60      0.64      0.62        14\n",
        "E. Raymond Hall       0.64      1.00      0.78         7\n",
        "Edward E. Hale       1.00      1.00      1.00         2\n",
        "Ernst Haeckel       1.00      1.00      1.00         2\n",
        "F. Colburn Adams       1.00      1.00      1.00         2\n",
        "Frank Harris       0.67      0.67      0.67         3\n",
        " George Ade       1.00      1.00      1.00         2\n",
        "H. Irving Hancock       1.00      1.00      1.00        11\n",
        "H. Rider Haggard       0.93      0.81      0.87        16\n",
        "Harry Harrison       0.75      1.00      0.86         3\n",
        "    Ian Hay       0.67      0.67      0.67         3\n",
        "James B. Hendryx       1.00      1.00      1.00         3\n",
        "Joel Chandler Harris       1.00      0.67      0.80         3\n",
        "   John Hay       0.33      0.50      0.40         2\n",
        "Julian Hawthorne       0.20      0.50      0.29         4\n",
        "Lafcadio Hearn       1.00      1.00      1.00         4\n",
        "Nathaniel Hawthorne       0.73      0.57      0.64        28\n",
        "   O. Henry       1.00      0.75      0.86         4\n",
        "Samuel Hopkins Adams       1.00      1.00      1.00         2\n",
        "Thomas Bailey Aldrich       0.11      0.17      0.13         6\n",
        "Thomas Hardy       1.00      0.88      0.93         8\n",
        "\n",
        "avg / total       0.80      0.75      0.77       151\n",
        "\n"
       ]
      }
     ],
     "prompt_number": 13
    },
    {
     "cell_type": "code",
     "collapsed": false,
     "input": [
      "print(confusion_matrix(expected, predictor.decode_authors(predicted)))"
     ],
     "language": "python",
     "metadata": {},
     "outputs": [
      {
       "output_type": "stream",
       "stream": "stdout",
       "text": [
        "[[ 3  0  0  0  0  0  0  0  0  0  0  0  0  0  0  0  0  0  0  0  0  0  0  0]\n",
        " [ 0  2  0  0  0  0  0  0  0  0  0  0  0  0  0  0  0  0  0  0  0  0  0  0]\n",
        " [ 0  0 12  2  2  0  0  0  0  0  0  0  0  0  0  0  0  0  0  0  0  0  1  0]\n",
        " [ 0  0  0  9  0  0  0  0  1  0  0  0  0  0  0  0  0  0  0  2  0  0  2  0]\n",
        " [ 0  0  0  0  7  0  0  0  0  0  0  0  0  0  0  0  0  0  0  0  0  0  0  0]\n",
        " [ 0  0  0  0  0  2  0  0  0  0  0  0  0  0  0  0  0  0  0  0  0  0  0  0]\n",
        " [ 0  0  0  0  0  0  2  0  0  0  0  0  0  0  0  0  0  0  0  0  0  0  0  0]\n",
        " [ 0  0  0  0  0  0  0  2  0  0  0  0  0  0  0  0  0  0  0  0  0  0  0  0]\n",
        " [ 0  0  0  0  0  0  0  0  2  0  0  0  0  0  0  0  1  0  0  0  0  0  0  0]\n",
        " [ 0  0  0  0  0  0  0  0  0  2  0  0  0  0  0  0  0  0  0  0  0  0  0  0]\n",
        " [ 0  0  0  0  0  0  0  0  0  0 11  0  0  0  0  0  0  0  0  0  0  0  0  0]\n",
        " [ 0  0  0  1  0  0  0  0  0  0  0 13  0  0  0  0  0  0  0  0  0  0  2  0]\n",
        " [ 0  0  0  0  0  0  0  0  0  0  0  0  3  0  0  0  0  0  0  0  0  0  0  0]\n",
        " [ 0  0  0  0  0  0  0  0  0  0  0  0  0  2  0  0  0  0  0  1  0  0  0  0]\n",
        " [ 0  0  0  0  0  0  0  0  0  0  0  0  0  0  3  0  0  0  0  0  0  0  0  0]\n",
        " [ 0  0  0  0  0  0  0  0  0  0  0  0  0  0  0  2  1  0  0  0  0  0  0  0]\n",
        " [ 0  0  0  0  0  0  0  0  0  0  0  0  0  1  0  0  1  0  0  0  0  0  0  0]\n",
        " [ 0  0  0  2  0  0  0  0  0  0  0  0  0  0  0  0  0  2  0  0  0  0  0  0]\n",
        " [ 0  0  0  0  0  0  0  0  0  0  0  0  0  0  0  0  0  0  4  0  0  0  0  0]\n",
        " [ 0  0  0  1  1  0  0  0  0  0  0  0  0  0  0  0  0  7  0 16  0  0  3  0]\n",
        " [ 0  0  0  0  0  0  0  0  0  0  0  0  0  0  0  0  0  0  0  1  3  0  0  0]\n",
        " [ 0  0  0  0  0  0  0  0  0  0  0  0  0  0  0  0  0  0  0  0  0  2  0  0]\n",
        " [ 0  0  0  0  1  0  0  0  0  0  0  0  1  0  0  0  0  1  0  2  0  0  1  0]\n",
        " [ 0  0  0  0  0  0  0  0  0  0  0  1  0  0  0  0  0  0  0  0  0  0  0  7]]\n"
       ]
      }
     ],
     "prompt_number": 14
    },
    {
     "cell_type": "code",
     "collapsed": false,
     "input": [],
     "language": "python",
     "metadata": {},
     "outputs": [],
     "prompt_number": 16
    },
    {
     "cell_type": "code",
     "collapsed": false,
     "input": [
      "model2 = pipeline.Pipeline([('extractor', bc.SklExtractor(extractor)), ('svd', decomposition.TruncatedSVD(50)), ('svm', svm.SVC(class_weight=\"auto\"))])\n",
      "books, authors = training.as_arrays()\n",
      "authors_indexer = bc.NumericIndexer(authors)\n",
      "model2.fit(list(books), [authors_indexer.encode(a) for a in authors])\n",
      "books2, authors2 = testing.as_arrays()\n",
      "results = model2.predict(list(books2))"
     ],
     "language": "python",
     "metadata": {},
     "outputs": [],
     "prompt_number": 7
    },
    {
     "cell_type": "code",
     "collapsed": false,
     "input": [
      "print(classification_report(authors2, [authors_indexer.decode(a) for a in results]))"
     ],
     "language": "python",
     "metadata": {},
     "outputs": [
      {
       "output_type": "stream",
       "stream": "stdout",
       "text": [
        "             precision    recall  f1-score   support\n",
        "\n",
        "Anthony Hamilton       1.00      1.00      1.00         3\n",
        "Arthur Robert Harding       1.00      1.00      1.00         2\n",
        " Bret Harte       1.00      0.71      0.83        17\n",
        "Charles Dickens       0.71      0.71      0.71        14\n",
        "E. Raymond Hall       0.88      1.00      0.93         7\n",
        "Edward E. Hale       0.50      0.50      0.50         2\n",
        "Ernst Haeckel       1.00      1.00      1.00         2\n",
        "F. Colburn Adams       0.00      0.00      0.00         2\n",
        "Frank Harris       1.00      0.33      0.50         3\n",
        " George Ade       0.67      1.00      0.80         2\n",
        "H. Irving Hancock       1.00      1.00      1.00        11\n",
        "H. Rider Haggard       1.00      0.94      0.97        16\n",
        "Harry Harrison       1.00      0.33      0.50         3\n",
        "    Ian Hay       1.00      0.33      0.50         3\n",
        "James B. Hendryx       1.00      1.00      1.00         3\n",
        "Joel Chandler Harris       1.00      0.67      0.80         3\n",
        "   John Hay       1.00      0.50      0.67         2\n",
        "Julian Hawthorne       0.12      0.50      0.19         4\n",
        "Lafcadio Hearn       1.00      1.00      1.00         4\n",
        "Nathaniel Hawthorne       1.00      0.29      0.44        28\n",
        "   O. Henry       1.00      0.75      0.86         4\n",
        "Samuel Hopkins Adams       1.00      1.00      1.00         2\n",
        "Thomas Bailey Aldrich       0.11      0.50      0.18         6\n",
        "Thomas Hardy       1.00      1.00      1.00         8\n",
        "\n",
        "avg / total       0.88      0.69      0.73       151\n",
        "\n"
       ]
      },
      {
       "output_type": "stream",
       "stream": "stderr",
       "text": [
        "/home/ale/Programs/my-python3-env/lib/python3.3/site-packages/sklearn/metrics/metrics.py:1858: UserWarning: The sum of true positives and false positives are equal to zero for some labels. Precision is ill defined for those labels ['F. Colburn Adams']. The precision and recall are equal to zero for some labels. fbeta_score is ill defined for those labels ['F. Colburn Adams']. \n",
        "  average=None)\n"
       ]
      }
     ],
     "prompt_number": 10
    },
    {
     "cell_type": "code",
     "collapsed": false,
     "input": [],
     "language": "python",
     "metadata": {},
     "outputs": []
    },
    {
     "cell_type": "code",
     "collapsed": false,
     "input": [
      "pandas.Series(authors).value_counts().plot(kind='bar')"
     ],
     "language": "python",
     "metadata": {},
     "outputs": [
      {
       "output_type": "pyout",
       "prompt_number": 78,
       "text": [
        "<matplotlib.axes.AxesSubplot at 0x7f7cdba47e50>"
       ]
      },
      {
       "output_type": "display_data",
       "png": "[encoded data removed]"
      }
     ],
     "prompt_number": 78
    },
    {
     "cell_type": "code",
     "collapsed": false,
     "input": [],
     "language": "python",
     "metadata": {},
     "outputs": []
    }
   ],
   "metadata": {}
  }
 ]
}