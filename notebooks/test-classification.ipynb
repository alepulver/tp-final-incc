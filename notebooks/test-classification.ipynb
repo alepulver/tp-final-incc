{
 "metadata": {
  "name": "test-classification"
 },
 "nbformat": 3,
 "nbformat_minor": 0,
 "worksheets": [
  {
   "cells": [
    {
     "cell_type": "code",
     "collapsed": false,
     "input": [
      "import book_classification as bc\n",
      "import shelve\n",
      "import pandas\n",
      "import numpy\n",
      "import matplotlib.pyplot as plt\n",
      "from sklearn import svm, decomposition, pipeline, metrics"
     ],
     "language": "python",
     "metadata": {},
     "outputs": [],
     "prompt_number": 5
    },
    {
     "cell_type": "code",
     "collapsed": false,
     "input": [
      "myShelf = shelve.open(\"storage_new.db\")\n",
      "aBookCollection = myShelf['aBookCollection']\n",
      "del myShelf"
     ],
     "language": "python",
     "metadata": {},
     "outputs": [],
     "prompt_number": 6
    },
    {
     "cell_type": "code",
     "collapsed": false,
     "input": [
      "tokenizer = bc.BasicTokenizer()\n",
      "vd = bc.VocabularyDistribution(aBookCollection, tokenizer)"
     ],
     "language": "python",
     "metadata": {},
     "outputs": [
      {
       "ename": "AttributeError",
       "evalue": "'module' object has no attribute 'VocabularyDistribution'",
       "output_type": "pyerr",
       "traceback": [
        "\u001b[1;31m---------------------------------------------------------------------------\u001b[0m\n\u001b[1;31mAttributeError\u001b[0m                            Traceback (most recent call last)",
        "\u001b[1;32m<ipython-input-3-8e6b7621fe99>\u001b[0m in \u001b[0;36m<module>\u001b[1;34m()\u001b[0m\n\u001b[0;32m      1\u001b[0m \u001b[0mtokenizer\u001b[0m \u001b[1;33m=\u001b[0m \u001b[0mbc\u001b[0m\u001b[1;33m.\u001b[0m\u001b[0mBasicTokenizer\u001b[0m\u001b[1;33m(\u001b[0m\u001b[1;33m)\u001b[0m\u001b[1;33m\u001b[0m\u001b[0m\n\u001b[1;32m----> 2\u001b[1;33m \u001b[0mvd\u001b[0m \u001b[1;33m=\u001b[0m \u001b[0mbc\u001b[0m\u001b[1;33m.\u001b[0m\u001b[0mVocabularyDistribution\u001b[0m\u001b[1;33m(\u001b[0m\u001b[0maBookCollection\u001b[0m\u001b[1;33m,\u001b[0m \u001b[0mtokenizer\u001b[0m\u001b[1;33m)\u001b[0m\u001b[1;33m\u001b[0m\u001b[0m\n\u001b[0m",
        "\u001b[1;31mAttributeError\u001b[0m: 'module' object has no attribute 'VocabularyDistribution'"
       ]
      }
     ],
     "prompt_number": 3
    },
    {
     "cell_type": "code",
     "collapsed": false,
     "input": [
      "pandas.Series(vd.as_dataframe()).plot(kind='bar')"
     ],
     "language": "python",
     "metadata": {},
     "outputs": [
      {
       "ename": "NameError",
       "evalue": "name 'vd' is not defined",
       "output_type": "pyerr",
       "traceback": [
        "\u001b[1;31m---------------------------------------------------------------------------\u001b[0m\n\u001b[1;31mNameError\u001b[0m                                 Traceback (most recent call last)",
        "\u001b[1;32m<ipython-input-4-e35667465ad1>\u001b[0m in \u001b[0;36m<module>\u001b[1;34m()\u001b[0m\n\u001b[1;32m----> 1\u001b[1;33m \u001b[0mpandas\u001b[0m\u001b[1;33m.\u001b[0m\u001b[0mSeries\u001b[0m\u001b[1;33m(\u001b[0m\u001b[0mvd\u001b[0m\u001b[1;33m.\u001b[0m\u001b[0mas_dataframe\u001b[0m\u001b[1;33m(\u001b[0m\u001b[1;33m)\u001b[0m\u001b[1;33m)\u001b[0m\u001b[1;33m.\u001b[0m\u001b[0mplot\u001b[0m\u001b[1;33m(\u001b[0m\u001b[0mkind\u001b[0m\u001b[1;33m=\u001b[0m\u001b[1;34m'bar'\u001b[0m\u001b[1;33m)\u001b[0m\u001b[1;33m\u001b[0m\u001b[0m\n\u001b[0m",
        "\u001b[1;31mNameError\u001b[0m: name 'vd' is not defined"
       ]
      }
     ],
     "prompt_number": 4
    },
    {
     "cell_type": "code",
     "collapsed": false,
     "input": [
      "training, testing = aBookCollection.selection().exclude_authors_below(7).selection().split_per_author_percentage(.5)"
     ],
     "language": "python",
     "metadata": {},
     "outputs": [],
     "prompt_number": 7
    },
    {
     "cell_type": "code",
     "collapsed": false,
     "input": [
      "tokenizer = bc.BasicTokenizer()\n",
      "grouper = bc.FixedGrouper(500)\n",
      "extractor = bc.EntropiesExtractor(tokenizer, grouper)\n",
      "matrix_extractor = bc.SklExtractor(extractor)\n",
      "\n",
      "svm_model = svm.SVC(class_weight=\"auto\")\n",
      "model = pipeline.Pipeline([('extractor', matrix_extractor), ('svd', decomposition.TruncatedSVD(50)), ('svm', bc.SklModelAdapter(svm_model))])\n",
      "\n",
      "books, authors = training.as_arrays()\n",
      "model.fit(books, authors)"
     ],
     "language": "python",
     "metadata": {},
     "outputs": [
      {
       "output_type": "pyout",
       "prompt_number": 8,
       "text": [
        "Pipeline(steps=[('extractor', <book_classification.sklearn_compat.SklExtractor object at 0x7fe323e9cd10>), ('svd', TruncatedSVD(algorithm='randomized', n_components=50, n_iterations=5,\n",
        "       random_state=None, tol=0.0)), ('svm', <book_classification.sklearn_compat.SklModelAdapter object at 0x7fe323e9ce10>)])"
       ]
      }
     ],
     "prompt_number": 8
    },
    {
     "cell_type": "code",
     "collapsed": false,
     "input": [
      "books2, authors2 = testing.as_arrays()\n",
      "results = model.predict(books2)"
     ],
     "language": "python",
     "metadata": {},
     "outputs": [],
     "prompt_number": 9
    },
    {
     "cell_type": "code",
     "collapsed": false,
     "input": [
      "expected = authors2\n",
      "predicted = results\n",
      "plt.pcolor(metrics.confusion_matrix(expected, predicted))"
     ],
     "language": "python",
     "metadata": {},
     "outputs": [
      {
       "output_type": "pyout",
       "prompt_number": 11,
       "text": [
        "<matplotlib.collections.PolyCollection at 0x7fe3393bb8d0>"
       ]
      },
      {
       "output_type": "display_data",
       "png": "[encoded data removed]"
      }
     ],
     "prompt_number": 11
    },
    {
     "cell_type": "code",
     "collapsed": false,
     "input": [
      "print(metrics.classification_report(expected, predicted))"
     ],
     "language": "python",
     "metadata": {},
     "outputs": [
      {
       "output_type": "stream",
       "stream": "stdout",
       "text": [
        "             precision    recall  f1-score   support\n",
        "\n",
        "Anthony Hamilton       1.00      1.00      1.00         5\n",
        "Arthur Robert Harding       1.00      1.00      1.00         3\n",
        " Bret Harte       1.00      0.86      0.93        29\n",
        "Charles Dickens       0.51      0.78      0.62        23\n",
        "E. Raymond Hall       0.73      1.00      0.85        11\n",
        "Edward E. Hale       1.00      0.75      0.86         4\n",
        "Ernst Haeckel       1.00      1.00      1.00         3\n",
        "F. Colburn Adams       0.00      0.00      0.00         3\n",
        "Frank Harris       1.00      0.20      0.33         5\n",
        " George Ade       0.57      1.00      0.73         4\n",
        "H. Irving Hancock       1.00      1.00      1.00        18\n",
        "H. Rider Haggard       0.85      0.85      0.85        26\n",
        "Harry Harrison       1.00      0.40      0.57         5\n",
        "    Ian Hay       0.75      0.60      0.67         5\n",
        "James B. Hendryx       1.00      1.00      1.00         5\n",
        "Joel Chandler Harris       1.00      1.00      1.00         5\n",
        "   John Hay       0.00      0.00      0.00         3\n",
        "Julian Hawthorne       0.12      0.43      0.19         7\n",
        "Lafcadio Hearn       1.00      0.86      0.92         7\n",
        "Nathaniel Hawthorne       0.74      0.43      0.54        47\n",
        "   O. Henry       1.00      0.57      0.73         7\n",
        "Samuel Hopkins Adams       1.00      0.75      0.86         4\n",
        "Thomas Bailey Aldrich       0.12      0.22      0.16         9\n",
        "Thomas Hardy       1.00      0.85      0.92        13\n",
        "\n",
        "avg / total       0.79      0.71      0.72       251\n",
        "\n"
       ]
      },
      {
       "output_type": "stream",
       "stream": "stderr",
       "text": [
        "/home/ale/Programs/my-python3-env/lib/python3.3/site-packages/sklearn/metrics/metrics.py:1858: UserWarning: The sum of true positives and false positives are equal to zero for some labels. Precision is ill defined for those labels ['F. Colburn Adams']. The precision and recall are equal to zero for some labels. fbeta_score is ill defined for those labels ['F. Colburn Adams' 'John Hay']. \n",
        "  average=None)\n"
       ]
      }
     ],
     "prompt_number": 12
    },
    {
     "cell_type": "code",
     "collapsed": false,
     "input": [
      "print(metrics.confusion_matrix(expected, predicted))"
     ],
     "language": "python",
     "metadata": {},
     "outputs": [
      {
       "output_type": "stream",
       "stream": "stdout",
       "text": [
        "[[ 5  0  0  0  0  0  0  0  0  0  0  0  0  0  0  0  0  0  0  0  0  0  0  0]\n",
        " [ 0  3  0  0  0  0  0  0  0  0  0  0  0  0  0  0  0  0  0  0  0  0  0  0]\n",
        " [ 0  0 25  1  0  0  0  0  0  0  0  0  0  0  0  0  0  0  0  1  0  0  2  0]\n",
        " [ 0  0  0 18  0  0  0  0  0  0  0  1  0  0  0  0  0  1  0  1  0  0  2  0]\n",
        " [ 0  0  0  0 11  0  0  0  0  0  0  0  0  0  0  0  0  0  0  0  0  0  0  0]\n",
        " [ 0  0  0  0  0  3  0  0  0  0  0  0  0  0  0  0  0  1  0  0  0  0  0  0]\n",
        " [ 0  0  0  0  0  0  3  0  0  0  0  0  0  0  0  0  0  0  0  0  0  0  0  0]\n",
        " [ 0  0  0  2  0  0  0  0  0  0  0  0  0  0  0  0  1  0  0  0  0  0  0  0]\n",
        " [ 0  0  0  2  0  0  0  0  1  0  0  0  0  0  0  0  0  0  0  1  0  0  1  0]\n",
        " [ 0  0  0  0  0  0  0  0  0  4  0  0  0  0  0  0  0  0  0  0  0  0  0  0]\n",
        " [ 0  0  0  0  0  0  0  0  0  0 18  0  0  0  0  0  0  0  0  0  0  0  0  0]\n",
        " [ 0  0  0  1  0  0  0  0  0  0  0 22  0  0  0  0  0  1  0  0  0  0  2  0]\n",
        " [ 0  0  0  0  1  0  0  0  0  0  0  0  2  0  0  0  0  0  0  0  0  0  2  0]\n",
        " [ 0  0  0  0  0  0  0  0  0  0  0  0  0  3  0  0  0  1  0  0  0  0  1  0]\n",
        " [ 0  0  0  0  0  0  0  0  0  0  0  0  0  0  5  0  0  0  0  0  0  0  0  0]\n",
        " [ 0  0  0  0  0  0  0  0  0  0  0  0  0  0  0  5  0  0  0  0  0  0  0  0]\n",
        " [ 0  0  0  2  0  0  0  0  0  0  0  0  0  1  0  0  0  0  0  0  0  0  0  0]\n",
        " [ 0  0  0  1  0  0  0  0  0  0  0  1  0  0  0  0  2  3  0  0  0  0  0  0]\n",
        " [ 0  0  0  1  0  0  0  0  0  0  0  0  0  0  0  0  0  0  6  0  0  0  0  0]\n",
        " [ 0  0  0  7  2  0  0  0  0  0  0  1  0  0  0  0  0 13  0 20  0  0  4  0]\n",
        " [ 0  0  0  0  0  0  0  0  0  2  0  0  0  0  0  0  0  0  0  1  4  0  0  0]\n",
        " [ 0  0  0  0  0  0  0  0  0  1  0  0  0  0  0  0  0  0  0  0  0  3  0  0]\n",
        " [ 0  0  0  0  1  0  0  0  0  0  0  0  0  0  0  0  0  3  0  3  0  0  2  0]\n",
        " [ 0  0  0  0  0  0  0  0  0  0  0  1  0  0  0  0  0  1  0  0  0  0  0 11]]\n"
       ]
      }
     ],
     "prompt_number": 15
    },
    {
     "cell_type": "code",
     "collapsed": false,
     "input": [],
     "language": "python",
     "metadata": {},
     "outputs": [],
     "prompt_number": 16
    }
   ],
   "metadata": {}
  }
 ]
}